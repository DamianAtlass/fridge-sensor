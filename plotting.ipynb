{
 "cells": [
  {
   "metadata": {},
   "cell_type": "markdown",
   "source": "# Imports",
   "id": "1f8999b98cb14551"
  },
  {
   "metadata": {},
   "cell_type": "code",
   "source": [
    "import pandas as pd\n",
    "from datetime import datetime\n",
    "import numpy as np\n",
    "from matplotlib import pyplot as plt"
   ],
   "id": "ea3ca5bbed47d08",
   "outputs": [],
   "execution_count": null
  },
  {
   "metadata": {},
   "cell_type": "markdown",
   "source": "# Preprocessing",
   "id": "29eb8ca31c7f821e"
  },
  {
   "metadata": {},
   "cell_type": "code",
   "source": "df = pd.read_csv(\"logs.csv\", sep=\",\")",
   "id": "73db47127ebddf4b",
   "outputs": [],
   "execution_count": null
  },
  {
   "metadata": {},
   "cell_type": "code",
   "source": [
    "df[\"Door_open\"] = df[\"Door\"]==\"open\"\n",
    "df[\"Door_ajar\"] = df[\"Door\"]==\"ajar\"\n",
    "df.drop(columns=[\"Door\"], axis=1, inplace=True)\n",
    "df[\"t\"] = pd.to_datetime(df[\"t\"], format=\"mixed\")\n",
    "\n",
    "df[\"Alarm level\"] = df[\"Alarm level\"].map(lambda x: int(x[:1]))"
   ],
   "id": "df0e66ca8b93afe6",
   "outputs": [],
   "execution_count": null
  },
  {
   "metadata": {},
   "cell_type": "code",
   "source": "#filtered_df = df.loc[(df['t'] >= '2025-09-18') & (df['t'] < '2025-09-23')]",
   "id": "a55fac692a2a02ea",
   "outputs": [],
   "execution_count": null
  },
  {
   "metadata": {},
   "cell_type": "markdown",
   "source": "## Plot ajar door",
   "id": "b143bd09d61e83a6"
  },
  {
   "metadata": {},
   "cell_type": "code",
   "source": [
    "ajar_df = df[[\"t\" ,\"Door_ajar\", \"Alarm level\"]].copy()\n",
    "#ajar_df[\"Door\"] = ajar_df[\"Door\"].apply(lambda x: 1 if x == \"ajar\" else 0) # make numeric for processing\n",
    "\n",
    "ajar_df[\"Door_ajar\"] = np.where(ajar_df[\"Door_ajar\"] & (ajar_df[\"Alarm level\"] > 2), 1, 0) # filter for slightly open door and alarm level (repeated measurements)\n",
    "\n",
    "# find beginnings (find all [0,1] occurrences)\n",
    "idx = np.where(\n",
    "    np.all(np.lib.stride_tricks.sliding_window_view(ajar_df[\"Door_ajar\"].copy(), 2) == [0,1], axis=1)\n",
    ")[0] + 1 # +1 so that we don't find the 0s\n",
    "\n",
    "beginnings = np.zeros((len(ajar_df)))\n",
    "beginnings[idx] = 1\n",
    "ajar_df[\"Door_ajar_start\"] = beginnings\n",
    "\n",
    "plt.figure(figsize=(10,10))\n",
    "ax = ajar_df.plot(\"t\", \"Door_ajar_start\")\n",
    "plt.title(\"Alarm triggered because door was slightly left open\")\n",
    "plt.ylabel(\"alarm triggered\")\n",
    "plt.xlabel(\"time\")\n",
    "ax.get_legend().remove()\n",
    "plt.yticks(ticks=[0,1], labels=[\"NO\", \"YES\"])\n",
    "plt.show()\n",
    "print(\"Total times alarm was triggered because door was slightly left open:\", int(np.sum(beginnings)))"
   ],
   "id": "74f1f0df30b6ddd2",
   "outputs": [],
   "execution_count": null
  },
  {
   "metadata": {},
   "cell_type": "code",
   "source": [
    "tmp = ajar_df.copy()\n",
    "tmp[\"t\"] = ajar_df[\"t\"].apply(lambda t: t.day)\n",
    "tmp = tmp.groupby(\"t\")[\"Door_ajar_start\"].sum()\n",
    "print(tmp)"
   ],
   "id": "de17090310544c2c",
   "outputs": [],
   "execution_count": null
  },
  {
   "metadata": {},
   "cell_type": "markdown",
   "source": "## Plot open door",
   "id": "e6472d8ba0215608"
  },
  {
   "metadata": {},
   "cell_type": "code",
   "source": [
    "# plot open door\n",
    "open_df = df[[\"t\" ,\"Door_open\", \"Alarm level\"]].copy()\n",
    "open_df[\"Door_open\"] = open_df[\"Door_open\"].apply(lambda x: 1 if x == \"open\" else 0) #todo\n",
    "open_df[\"door_num\"] = np.where((open_df[\"Door_open\"] == 1) & (tmp[\"Alarm level\"] > 0), 1, 0)\n",
    "open_df.plot(\"t\", \"door_num\")"
   ],
   "id": "3ccb2c97fc164888",
   "outputs": [],
   "execution_count": null
  },
  {
   "metadata": {},
   "cell_type": "code",
   "source": [
    "a = np.array([1, 2, 3, 2, 3, 4, 5])\n",
    "b = np.array([2, 3])\n",
    "\n",
    "idx = np.where(\n",
    "    np.all(np.lib.stride_tricks.sliding_window_view(a, len(b)) == b, axis=1)\n",
    ")[0]\n",
    "print(idx)"
   ],
   "id": "b6ae4d9efab4eed2",
   "outputs": [],
   "execution_count": null
  }
 ],
 "metadata": {
  "kernelspec": {
   "display_name": "Python 3",
   "language": "python",
   "name": "python3"
  },
  "language_info": {
   "codemirror_mode": {
    "name": "ipython",
    "version": 2
   },
   "file_extension": ".py",
   "mimetype": "text/x-python",
   "name": "python",
   "nbconvert_exporter": "python",
   "pygments_lexer": "ipython2",
   "version": "2.7.6"
  }
 },
 "nbformat": 4,
 "nbformat_minor": 5
}
