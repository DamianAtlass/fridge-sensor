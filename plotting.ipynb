{
 "cells": [
  {
   "metadata": {
    "ExecuteTime": {
     "end_time": "2025-09-24T17:48:20.307122Z",
     "start_time": "2025-09-24T17:48:20.304135Z"
    }
   },
   "cell_type": "code",
   "source": [
    "import pandas as pd\n",
    "from datetime import datetime"
   ],
   "id": "6f9388dd7ab623e2",
   "outputs": [],
   "execution_count": 114
  },
  {
   "metadata": {
    "ExecuteTime": {
     "end_time": "2025-09-24T17:48:20.633499Z",
     "start_time": "2025-09-24T17:48:20.320576Z"
    }
   },
   "cell_type": "code",
   "source": "df = pd.read_csv(\"logs.csv\", sep=\",\")",
   "id": "73db47127ebddf4b",
   "outputs": [],
   "execution_count": 115
  },
  {
   "metadata": {
    "ExecuteTime": {
     "end_time": "2025-09-24T17:48:20.911840Z",
     "start_time": "2025-09-24T17:48:20.640767Z"
    }
   },
   "cell_type": "code",
   "source": [
    "df[\"Door_open\"] = df[\"Door\"]==\"open\"\n",
    "df[\"Door_a_little_open\"] = df[\"Door\"]==\"a bit open\"\n",
    "\n",
    "df[\"t\"] = pd.to_datetime(df[\"t\"], format=\"mixed\")\n",
    "\n",
    "df[\"Alarm level\"] = df[\"Alarm level\"].map(lambda x: x[:1])\n",
    "df[\"Alarm level\"] = df[\"Alarm level\"].astype(int)"
   ],
   "id": "df0e66ca8b93afe6",
   "outputs": [],
   "execution_count": 116
  },
  {
   "metadata": {
    "ExecuteTime": {
     "end_time": "2025-09-24T17:57:19.248189Z",
     "start_time": "2025-09-24T17:57:19.230985Z"
    }
   },
   "cell_type": "code",
   "source": "filtered_df = df.loc[(df['t'] >= '2025-09-18') & (df['t'] < '2025-09-23')]",
   "id": "a55fac692a2a02ea",
   "outputs": [],
   "execution_count": 124
  },
  {
   "metadata": {
    "ExecuteTime": {
     "end_time": "2025-09-24T17:57:57.569263Z",
     "start_time": "2025-09-24T17:57:57.559152Z"
    }
   },
   "cell_type": "code",
   "source": "",
   "id": "74f1f0df30b6ddd2",
   "outputs": [
    {
     "data": {
      "text/plain": [
       "array([0, 1, 2])"
      ]
     },
     "execution_count": 126,
     "metadata": {},
     "output_type": "execute_result"
    }
   ],
   "execution_count": 126
  }
 ],
 "metadata": {
  "kernelspec": {
   "display_name": "Python 3",
   "language": "python",
   "name": "python3"
  },
  "language_info": {
   "codemirror_mode": {
    "name": "ipython",
    "version": 2
   },
   "file_extension": ".py",
   "mimetype": "text/x-python",
   "name": "python",
   "nbconvert_exporter": "python",
   "pygments_lexer": "ipython2",
   "version": "2.7.6"
  }
 },
 "nbformat": 4,
 "nbformat_minor": 5
}
